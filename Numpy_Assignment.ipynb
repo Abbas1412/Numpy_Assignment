{
 "cells": [
  {
   "cell_type": "code",
   "execution_count": 2,
   "id": "30ffe10d-4464-4bb8-b3f4-ac0074e01df3",
   "metadata": {},
   "outputs": [],
   "source": [
    "#*******************************************************************************************************#\n",
    "#************************************* NUMPY ASSIGNMENT ************************************************#\n",
    "#*******************************************************************************************************#\n",
    "\n",
    "import numpy as np"
   ]
  },
  {
   "cell_type": "raw",
   "id": "613b13a1-6c9d-4cf6-93d1-2596537c8bac",
   "metadata": {},
   "source": [
    "# Question 1 :  What is a Python library ? Why ^o we use Python libraries?\n",
    "\n",
    "ANS : \n",
    "\n",
    "#What\n",
    "Python library is a collection of Pre_Written codes that make developers to use it and don't have to write code from \n",
    "scratch.\n",
    "\n",
    "#Why\n",
    "Libraries contain Pre_Written classes, modules and functions that are used by the programmers to simplify the programming tasks efficiently, and to increase the reuseability of program."
   ]
  },
  {
   "cell_type": "raw",
   "id": "cb54d793-d973-4af2-b99a-17a35316320e",
   "metadata": {},
   "source": [
    "# What is the ^ifference between Numpy array an^ List?\n",
    "\n",
    "NumPy arrays and Python lists are both used to store collections of data, but they have several key differences:\n",
    "\n",
    "Memory Efficiency:\n",
    "    \n",
    "NumPy arrays: NumPy arrays are more memory-efficient compared to Python lists, especially for large datasets. This efficiency is due to NumPy arrays being stored in contiguous memory blocks, which allows for faster access and operations.\n",
    "Python lists: Lists in Python are more flexible but less memory-efficient because they store references to objects rather than the actual data. This can lead to higher memory usage, especially when dealing with large datasets.\n",
    "Data Type Flexibility:\n",
    "    \n",
    "NumPy arrays: NumPy arrays are homogeneous, meaning all elements in an array must have the same data type (e.g., integers, floats). This allows for optimized operations and mathematical computations.\n",
    "Python lists: Lists in Python are heterogeneous, meaning they can store elements of different data types in the same list. While this provides flexibility, it can also lead to slower operations when performing computations on the list elements.\n",
    "Performance:\n",
    "    \n",
    "\n",
    "NumPy arrays: NumPy arrays are designed for numerical computations and are optimized for performance. Operations on NumPy arrays are often faster than equivalent operations on Python lists, especially for large datasets.\n",
    "Python lists: Lists in Python are more general-purpose and versatile but may be slower for numerical computations compared to NumPy arrays.\n",
    "Functionality:\n",
    "    \n",
    "NumPy arrays: NumPy provides a wide range of mathematical functions and operations that are optimized for arrays. This includes element-wise operations, linear algebra, statistical functions, and more.\n",
    "Python lists: Lists in Python offer basic functionality for storing and manipulating data but lack the extensive mathematical and scientific capabilities provided by NumPy."
   ]
  },
  {
   "cell_type": "code",
   "execution_count": 19,
   "id": "47415bf5-ec0c-4732-a953-892f7094368e",
   "metadata": {},
   "outputs": [
    {
     "name": "stdout",
     "output_type": "stream",
     "text": [
      "The dimension of an array is: 2\n",
      "The shape of an array is: (3, 4)\n",
      "The size of an array is: 12 \n"
     ]
    }
   ],
   "source": [
    "# 3. Find the shape, size and dimension of the following array? [[1, 2, 3, 4] [5, 6, 7, 8], [9, 10, 11, 12]].\n",
    "\n",
    "array = np.array([[1, 2, 3, 4],[5, 6, 7, 8], [9, 10, 11, 12]])\n",
    "\n",
    "dimension = array.ndim\n",
    "\n",
    "shape = array.shape\n",
    "\n",
    "size = array.size\n",
    "\n",
    "print(f\"The dimension of an array is: {dimension}\\nThe shape of an array is: {shape}\\nThe size of an array is: {size} \")"
   ]
  },
  {
   "cell_type": "code",
   "execution_count": 24,
   "id": "5a7df4b8-59a5-44b5-ab4e-ba6c4ca9da4a",
   "metadata": {},
   "outputs": [
    {
     "data": {
      "text/plain": [
       "array([1, 2, 3, 4])"
      ]
     },
     "execution_count": 24,
     "metadata": {},
     "output_type": "execute_result"
    }
   ],
   "source": [
    "# 4. Write python code to access the first row of the following array? [[1, 2, 3, 4],[5, 6, 7, 8], [9, 10, 11, 12]].\n",
    "\n",
    "array = np.array([[1, 2, 3, 4],[5, 6, 7, 8], [9, 10, 11, 12]])\n",
    "\n",
    "array[0]"
   ]
  },
  {
   "cell_type": "code",
   "execution_count": 27,
   "id": "1d7b4f29-2c70-40bb-a5c3-12c6373877bd",
   "metadata": {},
   "outputs": [
    {
     "data": {
      "text/plain": [
       "12"
      ]
     },
     "execution_count": 27,
     "metadata": {},
     "output_type": "execute_result"
    }
   ],
   "source": [
    "# 5. How do you access the element at the third row and fourth column from the given numpy array? [[1, 2, 3, 4],[5, 6, 7, 8],[9, 10, 11, 12]].\n",
    "\n",
    "#Ans:\n",
    "\n",
    "array = np.array([[1, 2, 3, 4],[5, 6, 7, 8],[9, 10, 11, 12]])\n",
    "\n",
    "array[2][3]"
   ]
  },
  {
   "cell_type": "code",
   "execution_count": 48,
   "id": "03db7403-3573-4ba6-a1ae-ee469ef76eb4",
   "metadata": {},
   "outputs": [
    {
     "data": {
      "text/plain": [
       "array([[6, 8]])"
      ]
     },
     "execution_count": 48,
     "metadata": {},
     "output_type": "execute_result"
    }
   ],
   "source": [
    "# 6. Write code to extract all odd-indexes elements from the given numpy array? [[1, 2, 3, 4], [5, 6, 7, 8], [9, 10, 11, 12]].\n",
    "\n",
    "#Ans:\n",
    "\n",
    "array = np.array([[1, 2, 3, 4], [5, 6, 7, 8], [9, 10, 11, 1]])\n",
    "\n",
    "odd_indices_array = array[1::2, 1::2]\n",
    "\n",
    "odd_indices_array"
   ]
  },
  {
   "cell_type": "code",
   "execution_count": 52,
   "id": "6fcc534f-9323-41dd-9191-42c22de9e917",
   "metadata": {},
   "outputs": [
    {
     "data": {
      "text/plain": [
       "array([[0.04636612, 0.76548982, 0.89934975],\n",
       "       [0.89706582, 0.44051917, 0.62511061],\n",
       "       [0.91014212, 0.31236796, 0.43525046]])"
      ]
     },
     "execution_count": 52,
     "metadata": {},
     "output_type": "execute_result"
    }
   ],
   "source": [
    "# 7. How can you generate a random 3x3 matrix with values between 0 and 1 ?\n",
    "\n",
    "#Code:\n",
    "\n",
    "array = np.random.rand(3,3)\n",
    "\n",
    "array"
   ]
  },
  {
   "cell_type": "raw",
   "id": "1c3d7965-ee6f-4774-94ed-bb21455731b8",
   "metadata": {},
   "source": [
    "# 8. Describe the difference between np.random.rand and np.random.randn ?\n",
    "\n",
    "\n",
    "np.random.rand and np.random.randn are both functions in NumPy's random module used for generating random numbers, but they differ in terms of the distribution of the generated numbers.\n",
    "\n",
    "np.random.rand:\n",
    "This function generates random numbers from a uniform distribution over the interval [0, 1).\n",
    "The syntax is np.random.rand(d0, d1, ..., dn), where d0, d1, ..., dn are the dimensions of the output array.\n",
    "Each value in the output array is independently and uniformly distributed between 0 (inclusive) and 1 (exclusive).\n",
    "It is commonly used when you need random numbers that are uniformly distributed and bounded between 0 and 1.\n",
    "Example:\n",
    "\n",
    "python\n",
    "Copy code\n",
    "import numpy as np\n",
    "\n",
    "# Generate a 2x2 array of random numbers from a uniform distribution [0, 1)\n",
    "uniform_array = np.random.rand(2, 2)\n",
    "\n",
    "print(\"Random array from np.random.rand:\")\n",
    "print(uniform_array)\n",
    "np.random.randn:\n",
    "This function generates random numbers from a standard normal distribution (mean=0, standard deviation=1).\n",
    "The syntax is np.random.randn(d0, d1, ..., dn), where d0, d1, ..., dn are the dimensions of the output array.\n",
    "The generated numbers follow a bell-shaped curve centered around 0 with a spread controlled by the standard deviation.\n",
    "It is commonly used when you need random numbers that are normally distributed around 0.\n",
    "Example:\n",
    "\n",
    "import numpy as np\n",
    "\n",
    "# Generate a 2x2 array of random numbers from a standard normal distribution\n",
    "normal_array = np.random.randn(2, 2)\n",
    "\n",
    "print(\"Random array from np.random.randn:\")\n",
    "print(normal_array)\n",
    "In summary, np.random.rand generates random numbers from a uniform distribution [0, 1), while np.random.randn generates random numbers from a standard normal distribution (mean=0, standard deviation=1). The choice between these functions depends on the type of random numbers (uniform or normal) required for your application."
   ]
  },
  {
   "cell_type": "code",
   "execution_count": 69,
   "id": "3be8eb8b-b521-4ce9-a310-7328edd93050",
   "metadata": {},
   "outputs": [
    {
     "data": {
      "text/plain": [
       "3"
      ]
     },
     "execution_count": 69,
     "metadata": {},
     "output_type": "execute_result"
    }
   ],
   "source": [
    "# 9. Write code to increase the dimension of the following array? [[1, 2, 3, 4], [5, 6, 7, 8], [9, 10, 11, 12]].\n",
    "\n",
    "#Code:\n",
    "\n",
    "original_array = np.array([[1, 2, 3, 4], [5, 6, 7, 8], [9, 10, 11, 12]])\n",
    "\n",
    "reshaped_array = array.reshape(4,1,3)\n",
    "\n",
    "reshaped_array.ndim"
   ]
  },
  {
   "cell_type": "code",
   "execution_count": 77,
   "id": "b6bf490c-375f-4de9-87b8-07e56d93d9ae",
   "metadata": {},
   "outputs": [
    {
     "data": {
      "text/plain": [
       "array([[ 1,  5,  9],\n",
       "       [ 2,  6, 10],\n",
       "       [ 3,  7, 11],\n",
       "       [ 4,  8, 12]])"
      ]
     },
     "execution_count": 77,
     "metadata": {},
     "output_type": "execute_result"
    }
   ],
   "source": [
    "# 10. How to transpose the following array in NumPy? [[1, 2, 3, 4], [5, 6, 7, 8], [9, 10, 11, 12]].\n",
    "\n",
    "#Code:\n",
    "\n",
    "array = np.array([[1, 2, 3, 4], [5, 6, 7, 8], [9, 10, 11, 12]])\n",
    "\n",
    "array.transpose()"
   ]
  },
  {
   "cell_type": "raw",
   "id": "4c1f0520-4fc1-49a1-a1c2-199d79243ce5",
   "metadata": {},
   "source": [
    "# 11. Consider the following matrix: \n",
    "  Matrix A2 [[1, 2, 3, 4] [5, 6, 7, 8],[9, 10, 11, 12]] ,\n",
    "# Matrix B2 [[1, 2, 3, 4] [5, 6, 7, 8],[9, 10, 11, 12]].\n",
    "\n",
    "Perform the following operation using Python."
   ]
  },
  {
   "cell_type": "code",
   "execution_count": 80,
   "id": "39e4533c-1a99-466a-9af6-3cbcb3e95b3f",
   "metadata": {},
   "outputs": [
    {
     "data": {
      "text/plain": [
       "array([[  1,   4,   9,  16],\n",
       "       [ 25,  36,  49,  64],\n",
       "       [ 81, 100, 121, 144]])"
      ]
     },
     "execution_count": 80,
     "metadata": {},
     "output_type": "execute_result"
    }
   ],
   "source": [
    "# 1. Index wise multiplication.\n",
    "\n",
    "MatrixA = np.array([[1, 2, 3, 4],[5, 6, 7, 8],[9, 10, 11, 12]])\n",
    "MatrixB = np.array([[1, 2, 3, 4],[5, 6, 7, 8],[9, 10, 11, 12]])\n",
    "\n",
    "MatrixA * MatrixB"
   ]
  },
  {
   "cell_type": "code",
   "execution_count": 5,
   "id": "1134d14b-ce69-4759-b8de-dba3c1252710",
   "metadata": {},
   "outputs": [
    {
     "ename": "ValueError",
     "evalue": "shapes (3,4) and (3,4) not aligned: 4 (dim 1) != 3 (dim 0)",
     "output_type": "error",
     "traceback": [
      "\u001b[0;31m---------------------------------------------------------------------------\u001b[0m",
      "\u001b[0;31mValueError\u001b[0m                                Traceback (most recent call last)",
      "Cell \u001b[0;32mIn[5], line 8\u001b[0m\n\u001b[1;32m      4\u001b[0m MatrixB \u001b[38;5;241m=\u001b[39m np\u001b[38;5;241m.\u001b[39marray([[\u001b[38;5;241m1\u001b[39m, \u001b[38;5;241m2\u001b[39m, \u001b[38;5;241m3\u001b[39m, \u001b[38;5;241m4\u001b[39m],[\u001b[38;5;241m5\u001b[39m, \u001b[38;5;241m6\u001b[39m, \u001b[38;5;241m7\u001b[39m, \u001b[38;5;241m8\u001b[39m],[\u001b[38;5;241m9\u001b[39m, \u001b[38;5;241m10\u001b[39m, \u001b[38;5;241m11\u001b[39m, \u001b[38;5;241m12\u001b[39m]])\n\u001b[1;32m      6\u001b[0m MatrixB\u001b[38;5;241m.\u001b[39mtranspose()\n\u001b[0;32m----> 8\u001b[0m \u001b[43mnp\u001b[49m\u001b[38;5;241;43m.\u001b[39;49m\u001b[43mdot\u001b[49m\u001b[43m(\u001b[49m\u001b[43mMatrixA\u001b[49m\u001b[43m,\u001b[49m\u001b[43m \u001b[49m\u001b[43mMatrixB\u001b[49m\u001b[43m)\u001b[49m\n",
      "File \u001b[0;32m<__array_function__ internals>:180\u001b[0m, in \u001b[0;36mdot\u001b[0;34m(*args, **kwargs)\u001b[0m\n",
      "\u001b[0;31mValueError\u001b[0m: shapes (3,4) and (3,4) not aligned: 4 (dim 1) != 3 (dim 0)"
     ]
    }
   ],
   "source": [
    "# 2.  Matrix multiplication.\n",
    "\n",
    "MatrixA = np.array([[1, 2, 3, 4],[5, 6, 7, 8],[9, 10, 11, 12]])\n",
    "MatrixB = np.array([[1, 2, 3, 4],[5, 6, 7, 8],[9, 10, 11, 12]])\n",
    "\n",
    "MatrixB = MatrixB.transpose()\n",
    "\n",
    "np.dot(MatrixA, MatrixB)"
   ]
  },
  {
   "cell_type": "code",
   "execution_count": 5,
   "id": "9a7a760b-1540-4531-8722-7ee26baa69d5",
   "metadata": {},
   "outputs": [
    {
     "data": {
      "text/plain": [
       "array([[ 2,  4,  6,  8],\n",
       "       [10, 12, 14, 16],\n",
       "       [18, 20, 22, 24]])"
      ]
     },
     "execution_count": 5,
     "metadata": {},
     "output_type": "execute_result"
    }
   ],
   "source": [
    "# 3. Add both the matrix.\n",
    "\n",
    "MatrixA = np.array([[1, 2, 3, 4],[5, 6, 7, 8],[9, 10, 11, 12]])\n",
    "MatrixB = np.array([[1, 2, 3, 4],[5, 6, 7, 8],[9, 10, 11, 12]])\n",
    "\n",
    "MatrixA + MatrixB"
   ]
  },
  {
   "cell_type": "code",
   "execution_count": 8,
   "id": "08672c8b-e3cd-47a6-a61a-391604808c41",
   "metadata": {},
   "outputs": [
    {
     "data": {
      "text/plain": [
       "array([[0, 0, 0, 0],\n",
       "       [0, 0, 0, 0],\n",
       "       [0, 0, 0, 0]])"
      ]
     },
     "execution_count": 8,
     "metadata": {},
     "output_type": "execute_result"
    }
   ],
   "source": [
    "# 4. Subtract matrix B from A.\n",
    "\n",
    "MatrixA = np.array([[1, 2, 3, 4],[5, 6, 7, 8],[9, 10, 11, 12]])\n",
    "MatrixB = np.array([[1, 2, 3, 4],[5, 6, 7, 8],[9, 10, 11, 12]])\n",
    "\n",
    "MatrixB - MatrixA"
   ]
  },
  {
   "cell_type": "code",
   "execution_count": 10,
   "id": "10aa9fe9-c0a9-4795-8db6-3c0c0e977464",
   "metadata": {},
   "outputs": [
    {
     "data": {
      "text/plain": [
       "array([[1., 1., 1., 1.],\n",
       "       [1., 1., 1., 1.],\n",
       "       [1., 1., 1., 1.]])"
      ]
     },
     "execution_count": 10,
     "metadata": {},
     "output_type": "execute_result"
    }
   ],
   "source": [
    "# 5. Divide Matrix B by A.\n",
    "\n",
    "MatrixA = np.array([[1, 2, 3, 4],[5, 6, 7, 8],[9, 10, 11, 12]])\n",
    "MatrixB = np.array([[1, 2, 3, 4],[5, 6, 7, 8],[9, 10, 11, 12]])\n",
    "\n",
    "MatrixB / MatrixA"
   ]
  },
  {
   "cell_type": "code",
   "execution_count": 15,
   "id": "974f222f-95f0-4ab8-8efe-02c2f3aed23d",
   "metadata": {},
   "outputs": [
    {
     "data": {
      "text/plain": [
       "array([  72057594037927936, 1657324662872342528,  216172782113783808,\n",
       "        288230376151711744,  360287970189639680])"
      ]
     },
     "execution_count": 15,
     "metadata": {},
     "output_type": "execute_result"
    }
   ],
   "source": [
    "# 12. Which function in Numpy can be used to swap the byte order of an array?\n",
    "\n",
    "\n",
    "array = np.array([1,23,3,4,5])\n",
    "\n",
    "array.byteswap()"
   ]
  },
  {
   "cell_type": "raw",
   "id": "1952a859-4cc3-40ed-9fc1-e963a26debe6",
   "metadata": {},
   "source": [
    "# 13. What is the significance of the np.linalg.inv function ?\n",
    "\n",
    "#Ans:\n",
    "\n",
    "The np.linalg.inv function is significant in linear algebra and numerical computation because it calculates the inverse of a square matrix. This operation has several important applications in mathematics, physics, engineering, and other fields:\n",
    "\n",
    "Solving Linear Systems: One of the fundamental uses of matrix inversion is in solving systems of linear equations. If you have a system \n",
    "𝐴\n",
    "𝑥\n",
    "=\n",
    "𝑏\n",
    "Ax=b, where \n",
    "𝐴\n",
    "A is a square matrix and \n",
    "𝑏\n",
    "b is a vector, you can find the solution \n",
    "𝑥\n",
    "x by computing \n",
    "𝐴\n",
    "−\n",
    "1\n",
    "𝑏\n",
    "A \n",
    "−1\n",
    " b.\n",
    "Eigenvalue and Eigenvector Computation: In many contexts, eigenvectors and eigenvalues are crucial for understanding linear transformations. The inverse of a matrix is often involved in finding these eigenvalues and eigenvectors.\n",
    "Computing Pseudoinverse: The pseudoinverse of a matrix is used in cases where the matrix is not square or not full rank. The pseudoinverse is computed using the SVD (Singular Value Decomposition), and matrix inversion plays a role in this computation.\n",
    "Optimization Problems: Matrix inversion is used in optimization algorithms, particularly in cases where the objective function involves the inverse of a matrix, such as in least squares regression problems.\n",
    "Numerical Stability: In numerical computations, matrix inversion can sometimes lead to numerical instability, especially if the matrix is ill-conditioned or nearly singular. Techniques like regularization or using more stable algorithms (like LU decomposition) can mitigate these issues."
   ]
  },
  {
   "cell_type": "raw",
   "id": "89cf77df-c6ba-4eff-bda3-9d25cab09157",
   "metadata": {},
   "source": [
    "# 14.  What ^oes the np.reshape function ^o, an^ how is it use^?\n",
    "\n",
    "#Ans:\n",
    "\n",
    "The np.reshape function in NumPy is used to change the shape (dimensions) of an array without changing its data. It allows you to rearrange the elements of an array into a new shape, as long as the total number of elements remains the same.\n",
    "\n",
    "Here's how you can use np.reshape:\n",
    "\n",
    "Changing Dimensions: You can use np.reshape to change a 1D array into a multidimensional array (e.g., from a row vector to a matrix or a column vector).\n",
    "python\n",
    "Copy code\n",
    "import numpy as np\n",
    "\n",
    "# Create a 1D array\n",
    "arr1d = np.array([1, 2, 3, 4, 5, 6])\n",
    "\n",
    "# Reshape into a 2x3 matrix\n",
    "arr2d = np.reshape(arr1d, (2, 3))\n",
    "\n",
    "print(arr2d)\n",
    "Output:\n",
    "lua\n",
    "Copy code\n",
    "[[1 2 3]\n",
    " [4 5 6]]\n",
    "Flattening: You can also use np.reshape to flatten a multidimensional array into a 1D array.\n",
    "python\n",
    "Copy code\n",
    "# Reshape back to 1D array (flatten)\n",
    "flattened_arr = np.reshape(arr2d, -1)\n",
    "\n",
    "print(flattened_arr)\n",
    "Output:\n",
    "csharp\n",
    "Copy code\n",
    "[1 2 3 4 5 6]\n",
    "Reshaping into Other Shapes: The new shape provided to np.reshape must be compatible with the number of elements in the original array. For example, if you have 12 elements in an array, you can reshape it into a 3x4, 4x3, 2x6, 6x2, etc., but you cannot reshape it into a 3x5 matrix because that would require 15 elements.\n",
    "python\n",
    "Copy code\n",
    "# Reshape into a 3x4 matrix\n",
    "arr3x4 = np.reshape(arr1d, (3, 4))\n",
    "\n",
    "# This will raise a ValueError because 3x5 requires 15 elements, but arr1d has only 6.\n",
    "# invalid_reshape = np.reshape(arr1d, (3, 5))\n",
    "You can use -1 as one of the dimensions in the new shape, and NumPy will automatically compute that dimension based on the total number of elements and the other specified dimensions:\n",
    "python\n",
    "Copy code\n",
    "# Reshape into a 2x3 matrix using -1 for the second dimension\n",
    "arr2x3_auto = np.reshape(arr1d, (2, -1))\n",
    "\n",
    "print(arr2x3_auto)\n",
    "Output:\n",
    "lua\n",
    "Copy code\n",
    "[[1 2 3]\n",
    " [4 5 6]]\n",
    "np.reshape is particularly useful when working with image data, numerical simulations, or any application where you need to manipulate the shape of arrays while preserving the data within them."
   ]
  },
  {
   "cell_type": "raw",
   "id": "3c019212-a5fc-4113-a7a8-db5da9f6c347",
   "metadata": {},
   "source": [
    "# 15. What is broadcasting in Numpy ?\n",
    "\n",
    "# ANS:\n",
    "\n",
    "Broadcasting in NumPy is a powerful mechanism that allows arrays of different shapes to be combined or operated upon together, without explicitly creating copies of the data or using loops. It enables NumPy to perform operations efficiently and with concise syntax, similar to the way scalar operations work.\n",
    "\n",
    "Here are the key concepts and principles of broadcasting in NumPy:\n",
    "\n",
    "Implicit Copying: NumPy doesn't actually copy data during broadcasting. Instead, it intelligently extends the smaller array to match the shape of the larger array by virtually replicating the smaller array's elements along the necessary dimensions.\n",
    "Rules of Broadcasting:\n",
    "Rule 1: If the arrays have different numbers of dimensions, the shape of the smaller array is padded with ones on its left side until both shapes have the same length.\n",
    "Rule 2: The size of each dimension is compared from right to left. If the sizes are equal or one of them is 1, broadcasting is possible. Otherwise, it raises a ValueError.\n",
    "Rule 3: After applying Rules 1 and 2, the dimensions of the arrays must match or be 1. If they don't, broadcasting will fail.\n",
    "Broadcasting Examples:\n",
    "python\n",
    "Copy code\n",
    "import numpy as np\n",
    "\n",
    "# Example 1: Broadcasting a scalar to an array\n",
    "arr = np.array([[1, 2, 3], [4, 5, 6]])\n",
    "scalar = 10\n",
    "result = arr + scalar  # Broadcasting the scalar to the array\n",
    "\n",
    "# Example 2: Broadcasting arrays of different shapes\n",
    "arr1 = np.array([1, 2, 3])  # Shape: (3,)\n",
    "arr2 = np.array([[10], [20]])  # Shape: (2, 1)\n",
    "result = arr1 + arr2  # Broadcasting arr1 to match arr2's shape\n",
    "\n",
    "# Example 3: Broadcasting a higher-dimensional array\n",
    "arr3d = np.ones((3, 3, 3))\n",
    "arr1d = np.array([1, 2, 3])\n",
    "result = arr3d + arr1d  # Broadcasting arr1d across the last dimension of arr3d\n",
    "Broadcasting Benefits:\n",
    "Efficiency: Broadcasting allows NumPy to perform element-wise operations efficiently without explicit looping.\n",
    "Convenience: It simplifies code by handling shape mismatches automatically, reducing the need for manual reshaping or copying of arrays.\n",
    "Memory Efficiency: Broadcasting does not create copies of arrays, so it saves memory compared to explicit operations on expanded arrays.\n",
    "Broadcasting is a fundamental concept in NumPy that underpins many of its operations, including arithmetic operations, slicing, and more complex array manipulations. Understanding broadcasting can lead to more concise and efficient code when working with arrays of different shapes."
   ]
  }
 ],
 "metadata": {
  "kernelspec": {
   "display_name": "Python 3 (ipykernel)",
   "language": "python",
   "name": "python3"
  },
  "language_info": {
   "codemirror_mode": {
    "name": "ipython",
    "version": 3
   },
   "file_extension": ".py",
   "mimetype": "text/x-python",
   "name": "python",
   "nbconvert_exporter": "python",
   "pygments_lexer": "ipython3",
   "version": "3.10.8"
  }
 },
 "nbformat": 4,
 "nbformat_minor": 5
}
